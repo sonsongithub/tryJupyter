{
 "cells": [
  {
   "cell_type": "markdown",
   "metadata": {},
   "source": [
    "# MathJax test for github.com"
   ]
  },
  {
   "cell_type": "markdown",
   "metadata": {},
   "source": [
    "## LaTeX 2.09 or later\n",
    "$$\\left[ {\\begin{array}{*{20}{c}}\n",
    "a\\\\\\\n",
    "b\n",
    "\\end{array}} \\right]$$\n",
    "\n",
    "### test2\n",
    "\n",
    "$${\\begin{array}{*{20}{c}}\n",
    "a\\\\\\\n",
    "b\n",
    "\\end{array}} $$\n",
    "\n",
    "### test3\n",
    "$$\\left[ a \\right]$$"
   ]
  },
  {
   "cell_type": "markdown",
   "metadata": {},
   "source": [
    "## Plain tex\n",
    "$$\n",
    "\\left[ {\\matrix{\n",
    "   a  \\cr \n",
    "   b  \\cr \n",
    "\n",
    " } } \\right]\n",
    " $$"
   ]
  },
  {
   "cell_type": "markdown",
   "metadata": {},
   "source": [
    "## AMSLatex\n",
    "$$\\left[ {\\begin{array}{*{20}{c}}\n",
    "  a \\\\ \n",
    "  b \n",
    "\\end{array}} \\right]$$"
   ]
  },
  {
   "cell_type": "markdown",
   "metadata": {},
   "source": [
    "## AMSTeX\n",
    "$$\\left[ {\\matrix\n",
    "   a  \\\\ \n",
    "   b  \\\\ \n",
    "\n",
    " \\endmatrix } \\right]$$"
   ]
  },
  {
   "cell_type": "code",
   "execution_count": null,
   "metadata": {
    "collapsed": true
   },
   "outputs": [],
   "source": []
  }
 ],
 "metadata": {
  "anaconda-cloud": {},
  "kernelspec": {
   "display_name": "Python [default]",
   "language": "python",
   "name": "python3"
  },
  "language_info": {
   "codemirror_mode": {
    "name": "ipython",
    "version": 3
   },
   "file_extension": ".py",
   "mimetype": "text/x-python",
   "name": "python",
   "nbconvert_exporter": "python",
   "pygments_lexer": "ipython3",
   "version": "3.5.2"
  }
 },
 "nbformat": 4,
 "nbformat_minor": 1
}
